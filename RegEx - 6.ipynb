{
 "cells": [
  {
   "cell_type": "code",
   "execution_count": 1,
   "id": "4ec227a1",
   "metadata": {},
   "outputs": [
    {
     "name": "stdout",
     "output_type": "stream",
     "text": [
      "['1', '12', '123', '345', '45', '7']\n"
     ]
    }
   ],
   "source": [
    "import re\n",
    "def find_numbers(input_string):\n",
    "    pattern = r'\\b\\d{1,3}\\b'\n",
    "    matches = re.findall(pattern, input_string)\n",
    "    return matches\n",
    "input_string = \"Here are some numbers: 1, 12, 123, 1234, 345, 6789, 45, 7.\"\n",
    "numbers = find_numbers(input_string)\n",
    "print(numbers)"
   ]
  },
  {
   "cell_type": "code",
   "execution_count": null,
   "id": "83aaa06d",
   "metadata": {},
   "outputs": [],
   "source": []
  }
 ],
 "metadata": {
  "kernelspec": {
   "display_name": "Python 3 (ipykernel)",
   "language": "python",
   "name": "python3"
  },
  "language_info": {
   "codemirror_mode": {
    "name": "ipython",
    "version": 3
   },
   "file_extension": ".py",
   "mimetype": "text/x-python",
   "name": "python",
   "nbconvert_exporter": "python",
   "pygments_lexer": "ipython3",
   "version": "3.9.12"
  }
 },
 "nbformat": 4,
 "nbformat_minor": 5
}
