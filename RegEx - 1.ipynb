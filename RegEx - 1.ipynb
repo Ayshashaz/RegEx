{
 "cells": [
  {
   "cell_type": "code",
   "execution_count": 1,
   "id": "849fb235",
   "metadata": {},
   "outputs": [
    {
     "name": "stdout",
     "output_type": "stream",
     "text": [
      "The string 'Hello123' contains only allowed characters: True\n",
      "The string 'Hello@123' contains only allowed characters: False\n",
      "The string 'Welcome2021' contains only allowed characters: True\n",
      "The string 'Invalid_string!' contains only allowed characters: False\n"
     ]
    }
   ],
   "source": [
    "import re\n",
    "\n",
    "def check_string(s):\n",
    "\n",
    "    allowed_characters = set(\"abcdefghijklmnopqrstuvwxyzABCDEFGHIJKLMNOPQRSTUVWXYZ0123456789\")\n",
    "    \n",
    "\n",
    "    return all(map(lambda c: c in allowed_characters, s))\n",
    "\n",
    "test_strings = [\"Hello123\", \"Hello@123\", \"Welcome2021\", \"Invalid_string!\"]\n",
    "\n",
    "for test_string in test_strings:\n",
    "    result = check_string(test_string)\n",
    "    print(f\"The string '{test_string}' contains only allowed characters: {result}\")\n"
   ]
  },
  {
   "cell_type": "code",
   "execution_count": null,
   "id": "c8777497",
   "metadata": {},
   "outputs": [],
   "source": []
  }
 ],
 "metadata": {
  "kernelspec": {
   "display_name": "Python 3 (ipykernel)",
   "language": "python",
   "name": "python3"
  },
  "language_info": {
   "codemirror_mode": {
    "name": "ipython",
    "version": 3
   },
   "file_extension": ".py",
   "mimetype": "text/x-python",
   "name": "python",
   "nbconvert_exporter": "python",
   "pygments_lexer": "ipython3",
   "version": "3.9.12"
  }
 },
 "nbformat": 4,
 "nbformat_minor": 5
}
