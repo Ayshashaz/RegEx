{
 "cells": [
  {
   "cell_type": "code",
   "execution_count": 1,
   "id": "c9b761b8",
   "metadata": {},
   "outputs": [
    {
     "name": "stdout",
     "output_type": "stream",
     "text": [
      "Original string:\n",
      "Enter at 1 20 Kearny Street. The security desk can direct you to floor 1 6. Please have your identification ready.\n",
      "\n",
      "After concatenating the consecutive numbers in the said string:\n",
      "Enter at 120 Kearny Street. The security desk can direct you to floor 16. Please have your identification ready.\n"
     ]
    }
   ],
   "source": [
    "import re\n",
    "\n",
    "def concatenate_consecutive_numbers(text):\n",
    "    \n",
    "    pattern = re.compile(r'(\\d+)\\s+(\\d+)')\n",
    "    \n",
    "   \n",
    "    def replace_match(match):\n",
    "        return match.group(1) + match.group(2)\n",
    "    \n",
    "    \n",
    "    while pattern.search(text):\n",
    "        text = pattern.sub(replace_match, text)\n",
    "    \n",
    "    return text\n",
    "\n",
    "\n",
    "original_string = \"Enter at 1 20 Kearny Street. The security desk can direct you to floor 1 6. Please have your identification ready.\"\n",
    "\n",
    "result_string = concatenate_consecutive_numbers(original_string)\n",
    "\n",
    "\n",
    "print(\"Original string:\")\n",
    "print(original_string)\n",
    "print(\"\\nAfter concatenating the consecutive numbers in the said string:\")\n",
    "print(result_string)\n"
   ]
  },
  {
   "cell_type": "code",
   "execution_count": null,
   "id": "768ffc9f",
   "metadata": {},
   "outputs": [],
   "source": []
  }
 ],
 "metadata": {
  "kernelspec": {
   "display_name": "Python 3 (ipykernel)",
   "language": "python",
   "name": "python3"
  },
  "language_info": {
   "codemirror_mode": {
    "name": "ipython",
    "version": 3
   },
   "file_extension": ".py",
   "mimetype": "text/x-python",
   "name": "python",
   "nbconvert_exporter": "python",
   "pygments_lexer": "ipython3",
   "version": "3.9.12"
  }
 },
 "nbformat": 4,
 "nbformat_minor": 5
}
