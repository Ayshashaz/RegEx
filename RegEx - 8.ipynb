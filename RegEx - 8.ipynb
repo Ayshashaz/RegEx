{
 "cells": [
  {
   "cell_type": "code",
   "execution_count": 1,
   "id": "e6a55c46",
   "metadata": {},
   "outputs": [
    {
     "name": "stdout",
     "output_type": "stream",
     "text": [
      "Text: The quick brown fox jumps over the lazy dog.\n",
      "Searched word: 'fox'\n",
      "Occurrences: [16]\n",
      "'fox' found at index: 16\n"
     ]
    }
   ],
   "source": [
    "def find_occurrences(text, word):\n",
    "    occurrences = []\n",
    "    start = 0\n",
    "    while start < len(text):\n",
    "        start = text.find(word, start)\n",
    "        if start == -1:\n",
    "            break\n",
    "        occurrences.append(start)\n",
    "        start += len(word)\n",
    "    return occurrences\n",
    "sample_text = 'The quick brown fox jumps over the lazy dog.'\n",
    "searched_word = 'fox'\n",
    "locations = find_occurrences(sample_text, searched_word)\n",
    "\n",
    "print(f\"Text: {sample_text}\")\n",
    "print(f\"Searched word: '{searched_word}'\")\n",
    "print(f\"Occurrences: {locations}\")\n",
    "\n",
    "if locations:\n",
    "    for loc in locations:\n",
    "        print(f\"'{searched_word}' found at index: {loc}\")\n",
    "else:\n",
    "    print(f\"'{searched_word}' not found in the text.\")"
   ]
  },
  {
   "cell_type": "code",
   "execution_count": null,
   "id": "2162607e",
   "metadata": {},
   "outputs": [],
   "source": []
  }
 ],
 "metadata": {
  "kernelspec": {
   "display_name": "Python 3 (ipykernel)",
   "language": "python",
   "name": "python3"
  },
  "language_info": {
   "codemirror_mode": {
    "name": "ipython",
    "version": 3
   },
   "file_extension": ".py",
   "mimetype": "text/x-python",
   "name": "python",
   "nbconvert_exporter": "python",
   "pygments_lexer": "ipython3",
   "version": "3.9.12"
  }
 },
 "nbformat": 4,
 "nbformat_minor": 5
}
