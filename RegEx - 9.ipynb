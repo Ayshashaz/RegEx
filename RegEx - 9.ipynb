{
 "cells": [
  {
   "cell_type": "code",
   "execution_count": 1,
   "id": "de4ed3be",
   "metadata": {},
   "outputs": [
    {
     "name": "stdout",
     "output_type": "stream",
     "text": [
      "Full Date: 2016/09/02\n",
      "Year: 2016\n",
      "Month: 09\n",
      "Day: 02\n"
     ]
    }
   ],
   "source": [
    "import re\n",
    "\n",
    "def extract_date(url):\n",
    "    \n",
    "    pattern = re.compile(r'(\\d{4})/(\\d{2})/(\\d{2})')\n",
    "    match = pattern.search(url)\n",
    "    if match:\n",
    "        full_date = match.group(0)\n",
    "        year = match.group(1)\n",
    "        month = match.group(2)\n",
    "        day = match.group(3)\n",
    "        return full_date, year, month, day\n",
    "    else:\n",
    "        return None\n",
    "\n",
    "url1 = \"https://www.washingtonpost.com/news/football-insider/wp/2016/09/02/odell-beckhams-fame-rests-on-one-stupid-little-ball-josh-norman-tells-author/\"\n",
    "\n",
    "\n",
    "result = extract_date(url1)\n",
    "\n",
    "\n",
    "if result:\n",
    "    full_date, year, month, day = result\n",
    "    print(f\"Full Date: {full_date}\")\n",
    "    print(f\"Year: {year}\")\n",
    "    print(f\"Month: {month}\")\n",
    "    print(f\"Day: {day}\")\n",
    "else:\n",
    "    print(\"No date found in the URL.\")\n"
   ]
  },
  {
   "cell_type": "code",
   "execution_count": null,
   "id": "43f68041",
   "metadata": {},
   "outputs": [],
   "source": []
  }
 ],
 "metadata": {
  "kernelspec": {
   "display_name": "Python 3 (ipykernel)",
   "language": "python",
   "name": "python3"
  },
  "language_info": {
   "codemirror_mode": {
    "name": "ipython",
    "version": 3
   },
   "file_extension": ".py",
   "mimetype": "text/x-python",
   "name": "python",
   "nbconvert_exporter": "python",
   "pygments_lexer": "ipython3",
   "version": "3.9.12"
  }
 },
 "nbformat": 4,
 "nbformat_minor": 5
}
