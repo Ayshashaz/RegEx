{
 "cells": [
  {
   "cell_type": "code",
   "execution_count": 1,
   "id": "1efc6f4f",
   "metadata": {},
   "outputs": [
    {
     "name": "stdout",
     "output_type": "stream",
     "text": [
      "The string'a' matches the pattern 'a' followed by zero or more b's: True\n",
      "The string'ab' matches the pattern 'a' followed by zero or more b's: True\n",
      "The string'abb' matches the pattern 'a' followed by zero or more b's: True\n",
      "The string'abbb' matches the pattern 'a' followed by zero or more b's: True\n",
      "The string'ac' matches the pattern 'a' followed by zero or more b's: False\n",
      "The string'b' matches the pattern 'a' followed by zero or more b's: False\n",
      "The string'aabc' matches the pattern 'a' followed by zero or more b's: False\n"
     ]
    }
   ],
   "source": [
    "import re\n",
    "def match_pattern(s):\n",
    "    pattern = r'ab*'\n",
    "    if re.fullmatch(pattern, s):\n",
    "        return True\n",
    "    else:\n",
    "        return False\n",
    "    \n",
    "test_strings = [\"a\", \"ab\", \"abb\", \"abbb\", \"ac\", \"b\", \"aabc\"]\n",
    "for test_string in test_strings:\n",
    "    result = match_pattern(test_string)\n",
    "    print(f\"The string'{test_string}' matches the pattern 'a' followed by zero or more b's: {result}\")\n",
    "    "
   ]
  },
  {
   "cell_type": "code",
   "execution_count": null,
   "id": "31a8186f",
   "metadata": {},
   "outputs": [],
   "source": []
  }
 ],
 "metadata": {
  "kernelspec": {
   "display_name": "Python 3 (ipykernel)",
   "language": "python",
   "name": "python3"
  },
  "language_info": {
   "codemirror_mode": {
    "name": "ipython",
    "version": 3
   },
   "file_extension": ".py",
   "mimetype": "text/x-python",
   "name": "python",
   "nbconvert_exporter": "python",
   "pygments_lexer": "ipython3",
   "version": "3.9.12"
  }
 },
 "nbformat": 4,
 "nbformat_minor": 5
}
