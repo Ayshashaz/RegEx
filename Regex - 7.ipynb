{
 "cells": [
  {
   "cell_type": "code",
   "execution_count": 1,
   "id": "22cbd653",
   "metadata": {},
   "outputs": [
    {
     "ename": "SyntaxError",
     "evalue": "invalid syntax (862881312.py, line 8)",
     "output_type": "error",
     "traceback": [
      "\u001b[0;36m  Input \u001b[0;32mIn [1]\u001b[0;36m\u001b[0m\n\u001b[0;31m    retun found_words\u001b[0m\n\u001b[0m          ^\u001b[0m\n\u001b[0;31mSyntaxError\u001b[0m\u001b[0;31m:\u001b[0m invalid syntax\n"
     ]
    }
   ],
   "source": [
    "def search_strings(text, words):\n",
    "    found_words = {}\n",
    "    for word in words:\n",
    "        if word in text:\n",
    "            found_words[word] = True\n",
    "        else:\n",
    "            found_words[word] = False\n",
    "    retun found_words\n",
    "text = 'The quick brown fox jumps over the lazy dog.'\n",
    "searched_words = ['fox', 'dog', 'horse']\n",
    "results = search_strings(text, searched_words)\n",
    "for word, found in results.items():\n",
    "    if found:\n",
    "        print(f\"'{word}' found in the text.\")\n",
    "    else:\n",
    "        print(f\"'{word}' not found in the text.\")"
   ]
  },
  {
   "cell_type": "code",
   "execution_count": 2,
   "id": "5998f47f",
   "metadata": {},
   "outputs": [
    {
     "name": "stdout",
     "output_type": "stream",
     "text": [
      "'fox' found in the text.\n",
      "'dog' found in the text.\n",
      "'horse' not found in the text.\n"
     ]
    }
   ],
   "source": [
    "def search_strings(text, words):\n",
    "    found_words = {}\n",
    "    for word in words:\n",
    "        if word in text:\n",
    "            found_words[word] = True\n",
    "        else:\n",
    "            found_words[word] = False\n",
    "    return found_words\n",
    "text = 'The quick brown fox jumps over the lazy dog.'\n",
    "searched_words = ['fox', 'dog', 'horse']\n",
    "results = search_strings(text, searched_words)\n",
    "for word, found in results.items():\n",
    "    if found:\n",
    "        print(f\"'{word}' found in the text.\")\n",
    "    else:\n",
    "        print(f\"'{word}' not found in the text.\")"
   ]
  },
  {
   "cell_type": "code",
   "execution_count": null,
   "id": "96850e9a",
   "metadata": {},
   "outputs": [],
   "source": []
  }
 ],
 "metadata": {
  "kernelspec": {
   "display_name": "Python 3 (ipykernel)",
   "language": "python",
   "name": "python3"
  },
  "language_info": {
   "codemirror_mode": {
    "name": "ipython",
    "version": 3
   },
   "file_extension": ".py",
   "mimetype": "text/x-python",
   "name": "python",
   "nbconvert_exporter": "python",
   "pygments_lexer": "ipython3",
   "version": "3.9.12"
  }
 },
 "nbformat": 4,
 "nbformat_minor": 5
}
