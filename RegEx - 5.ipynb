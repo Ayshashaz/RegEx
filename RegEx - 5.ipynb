{
 "cells": [
  {
   "cell_type": "code",
   "execution_count": 1,
   "id": "f2f1b0ad",
   "metadata": {},
   "outputs": [
    {
     "name": "stdout",
     "output_type": "stream",
     "text": [
      "The string 'ab' matches the pattern 'a' followed by anything ending in 'b': True\n",
      "The string 'a123b' matches the pattern 'a' followed by anything ending in 'b': True\n",
      "The string 'axb' matches the pattern 'a' followed by anything ending in 'b': True\n",
      "The string 'a!b' matches the pattern 'a' followed by anything ending in 'b': True\n",
      "The string 'acb' matches the pattern 'a' followed by anything ending in 'b': True\n",
      "The string 'a' matches the pattern 'a' followed by anything ending in 'b': False\n",
      "The string 'b' matches the pattern 'a' followed by anything ending in 'b': False\n",
      "The string 'a123' matches the pattern 'a' followed by anything ending in 'b': False\n"
     ]
    }
   ],
   "source": [
    "import re\n",
    "def match_pattern(s):\n",
    "    pattern = r'a.*b'\n",
    "    if re.fullmatch(pattern, s):\n",
    "        return True\n",
    "    else:\n",
    "        return False\n",
    "test_strings = [\"ab\", \"a123b\", \"axb\", \"a!b\", \"acb\", \"a\", \"b\", \"a123\"]\n",
    "for test_string in test_strings:\n",
    "    result = match_pattern(test_string)\n",
    "    print(f\"The string '{test_string}' matches the pattern 'a' followed by anything ending in 'b': {result}\")"
   ]
  },
  {
   "cell_type": "code",
   "execution_count": null,
   "id": "7652e731",
   "metadata": {},
   "outputs": [],
   "source": []
  }
 ],
 "metadata": {
  "kernelspec": {
   "display_name": "Python 3 (ipykernel)",
   "language": "python",
   "name": "python3"
  },
  "language_info": {
   "codemirror_mode": {
    "name": "ipython",
    "version": 3
   },
   "file_extension": ".py",
   "mimetype": "text/x-python",
   "name": "python",
   "nbconvert_exporter": "python",
   "pygments_lexer": "ipython3",
   "version": "3.9.12"
  }
 },
 "nbformat": 4,
 "nbformat_minor": 5
}
